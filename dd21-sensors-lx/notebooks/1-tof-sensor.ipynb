{
 "cells": [
  {
   "attachments": {},
   "cell_type": "markdown",
   "metadata": {},
   "source": [
    "# Time-of-flight Sensor\n",
    "\n",
    "A range sensor is any sensor that measures the distance to an\n",
    "object. There are three main types that are used on quadcopters:\n",
    "ultrasonic, infrared, and time-of-flight. For ultrasonic and infrared,\n",
    "a wave is emitted from one element of the sensor and received by the\n",
    "other. The time taken for the wave to be emitted, reflected, and be\n",
    "absorbed by the second sensor allows the range to be\n",
    "calculated. Infrared is more accurate, less noisy, and has a better\n",
    "range than the ultrasonic range sensor.\n",
    "\n",
    "The time-of-flight sensor\n",
    "shines infrared light at the world and measures how long it takes to\n",
    "bounce back.  Your drone uses the time-of-flight (TOF) sensor because\n",
    "it accurately measures range and does not require an extra analog to\n",
    "digital converter board as does the infrared sensor.\n"
   ]
  },
  {
   "attachments": {},
   "cell_type": "markdown",
   "metadata": {},
   "source": [
    "## Estimating Height with the Time of Flight Sensor\n",
    "\n",
    "The time-of-flight (TOF) sensor on the drone outputs a distance\n",
    "estimate. ROS requires all distances to be in meters.  \n",
    "\n",
    "### Questions\n",
    "1. Look on the data sheet for the TOF sensor on your drone, you can find it [here](https://cdn-learn.adafruit.com/assets/assets/000/037/547/original/en.DM00279086.pdf).  You will be using the recommended Python library to read data from the TOF sensor.  In what units does it output distances?\n",
    "\n"
   ]
  },
  {
   "attachments": {},
   "cell_type": "markdown",
   "metadata": {},
   "source": [
    "# Activity: Using your Time-of-flight Sensor\n",
    "\n",
    "In this part of the project, you will learn how to estimate the drone's height using its time-of-flight sensor. The drone is equipped with a [VL53L0X](https://learn.adafruit.com/adafruit-vl53l0x-micro-lidar-distance-sensor-breakout), which is used for estimating the distance from the drone to the ground-plane. The sensor outputs a digital signal containing the distance from the sensor and read in by the Raspberry Pi via the GPIO pin using the associated [Python library](https://docs.circuitpython.org/projects/vl53l0x/en/latest/). The voltage value corresponds to distance, but we are going to need to do some work to convert it to real-world units.\n",
    "\n",
    "**Setup**\n",
    "\n",
    "Change to `~/catkin_ws/src` on your drone, and then run\n",
    "\n",
    "```\n",
    "git clone https://github.com/h2r/project-sensors-implementation-yourGithubName\n",
    "```\n",
    "\n",
    "You should create a GitHub personal access token for your drone to make this possible. It only needs permissions to read and write to repositories. \n",
    "\n",
    "\n",
    "Change directories into `~/catkin_ws/src/project-sensors-implementation-yourGithubName`.\n",
    "You can run\n",
    "\n",
    "```\n",
    "rosrun project-sensors-yourGithubName student_tof_pub.py  \n",
    "```\n",
    "\n",
    "You may stop `student_tof_pub.py` with `ctrl-c`, edit it within that tab, and then re-run \n",
    "\n",
    "```\n",
    "rosrun project-sensors-yourGithubName student_tof_pub.py\n",
    "```\n",
    "\n",
    "to test your changes.\n",
    "\n",
    "\n",
    "## Problem 1: Publish your TOF Reading\n",
    "In `student_tof_pub.py`, fill in the minimum range, maximum range, and current range read from the sensor into the ROS message.  When you run this node, you will be publishing a [ROS Range message](http://docs.ros.org/api/sensor_msgs/html/msg/Range.html) which is a standard message included with ROS.\n",
    "\n",
    "## Checkoff:\n",
    "Using `rostopic echo /pidrone/range` or the height graph on the web interface, verify that:\n",
    "\n",
    "  * The TOF node is publishing a message with all the fields you want\n",
    "  * The range field of the message is a roughly accurate measure of the drone's altitude\n",
    "\n",
    "You can now fly your drone with your own range node!\n"
   ]
  }
 ],
 "metadata": {
  "language_info": {
   "name": "python"
  },
  "orig_nbformat": 4
 },
 "nbformat": 4,
 "nbformat_minor": 2
}
